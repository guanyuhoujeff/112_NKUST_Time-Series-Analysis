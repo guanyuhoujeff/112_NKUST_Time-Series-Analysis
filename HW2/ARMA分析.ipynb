{
 "cells": [
  {
   "cell_type": "code",
   "execution_count": null,
   "id": "5f28e179-2b17-4fb4-92db-b2f79114f913",
   "metadata": {},
   "outputs": [],
   "source": [
    "# pip install pandas "
   ]
  },
  {
   "cell_type": "code",
   "execution_count": null,
   "id": "7d410c5a-4a81-457b-8b7e-b38548d215c1",
   "metadata": {},
   "outputs": [],
   "source": [
    "import pickle\n",
    "import time\n",
    "from datetime import datetime, timedelta\n",
    "from easydict import EasyDict as edict\n",
    "import pandas as pd\n",
    "from tqdm import tqdm\n",
    "import os\n",
    "import matplotlib.pyplot as plt"
   ]
  },
  {
   "cell_type": "markdown",
   "id": "3d6d6d4b-4b68-4baa-8caf-e7f4f0e886dd",
   "metadata": {},
   "source": [
    "現貨"
   ]
  },
  {
   "cell_type": "code",
   "execution_count": null,
   "id": "1e5fbe38-d16f-43a3-8be6-2e5c745d8f77",
   "metadata": {},
   "outputs": [],
   "source": [
    "symbol = 'BTCUSDT'\n",
    "f_symbol = \"BTCUSD_PERP\"\n",
    "# freq = '30m'\n",
    "# freq = '4h'\n",
    "# freq = '8h'\n",
    "freq = '1d'"
   ]
  },
  {
   "cell_type": "code",
   "execution_count": null,
   "id": "5e33cbe8-d1ca-494d-a662-84ee99f2a001",
   "metadata": {},
   "outputs": [],
   "source": [
    "all_klines_table = pd.read_pickle(f\"{symbol}_{freq}_spot_k_line_data.pkl\")\n",
    "all_f_klines_table = pd.read_pickle(f\"{symbol}_{freq}_future_k_line_data.pkl\")"
   ]
  },
  {
   "cell_type": "markdown",
   "id": "f31a96a6-3ba2-4247-bf23-5406a63c1656",
   "metadata": {},
   "source": [
    "# 合併資料"
   ]
  },
  {
   "cell_type": "code",
   "execution_count": null,
   "id": "343d7c6a-a917-4f43-9309-e4d92f51dc74",
   "metadata": {},
   "outputs": [],
   "source": [
    "merge_all_klines_table = all_klines_table[['open_time', 'close', 'open']].merge(\n",
    "    all_f_klines_table[['open_time', 'close', 'open']], on=['open_time'], \n",
    "    suffixes=(\"_spot\", \"_future\"),\n",
    ")"
   ]
  },
  {
   "cell_type": "code",
   "execution_count": null,
   "id": "191c2159-5527-42f9-a1d0-2f133618e6b4",
   "metadata": {},
   "outputs": [],
   "source": [
    "merge_all_klines_table['basis'] =merge_all_klines_table['close_spot'] - merge_all_klines_table['close_future']\n",
    "merge_all_klines_table['basis_rate'] = merge_all_klines_table['basis']/merge_all_klines_table['close_spot'] * 100\n",
    "merge_all_klines_table.index = merge_all_klines_table['open_time']"
   ]
  },
  {
   "cell_type": "markdown",
   "id": "7ed6cd04-890c-4e14-914b-8f4ebf0db95f",
   "metadata": {},
   "source": [
    "# 我們想探討的變數"
   ]
  },
  {
   "cell_type": "code",
   "execution_count": null,
   "id": "983bce90-2a4c-4cb0-a78e-ed72d5b9e5d9",
   "metadata": {},
   "outputs": [],
   "source": [
    "y = merge_all_klines_table[\"basis\"]"
   ]
  },
  {
   "cell_type": "markdown",
   "id": "41c4b2a3-37fa-454d-a7e4-e8142194df96",
   "metadata": {},
   "source": [
    "# 畫圖"
   ]
  },
  {
   "cell_type": "code",
   "execution_count": null,
   "id": "54886ecb-ef8c-4bdd-a676-f68a3bc6a70f",
   "metadata": {},
   "outputs": [],
   "source": [
    "outpath = \"output\"\n",
    "os.makedirs(outpath,exist_ok=True)"
   ]
  },
  {
   "cell_type": "code",
   "execution_count": null,
   "id": "b0ad7aeb-b6d3-4e0f-8582-b5ba9fc6d32a",
   "metadata": {},
   "outputs": [],
   "source": [
    "plt.figure(figsize=(10,4))\n",
    "title = f\"{symbol}-{freq}-{y.name}\"\n",
    "plt.title(title, fontdict={'fontname': 'Times New Roman', 'fontstyle': 'italic'})\n",
    "plt.plot(y)\n",
    "plt.grid()\n",
    "plt.tight_layout()\n",
    "plt.savefig(os.path.join(outpath, f\"{title}走勢圖.png\"))"
   ]
  },
  {
   "cell_type": "code",
   "execution_count": null,
   "id": "c18afe31-28e6-4130-8edf-6092163252de",
   "metadata": {},
   "outputs": [],
   "source": [
    "plt.figure(figsize=(10,4))\n",
    "n, bins, patches = plt.hist(y, bins=100, alpha=0.75, edgecolor='black')\n",
    "title = f\"{symbol}-{freq}-{y.name}\"\n",
    "plt.title(title, fontdict={'fontname': 'Times New Roman', 'fontstyle': 'italic'})\n",
    "plt.grid()\n",
    "plt.tight_layout()\n",
    "plt.savefig(os.path.join(outpath, f\"{title}分佈圖.png\"))"
   ]
  },
  {
   "cell_type": "markdown",
   "id": "430eabb8-5e26-498c-be70-0196b94f7eb5",
   "metadata": {},
   "source": [
    "# 敘述性統計"
   ]
  },
  {
   "cell_type": "code",
   "execution_count": null,
   "id": "0d5ade4e-ce04-409f-acc5-bfea16c4329e",
   "metadata": {},
   "outputs": [],
   "source": [
    "# !pip install arch\n",
    "# !pip install numpy==1.23.5 --user"
   ]
  },
  {
   "cell_type": "code",
   "execution_count": null,
   "id": "fdc45dab-5b68-49fa-b045-cd005ebc0e90",
   "metadata": {},
   "outputs": [],
   "source": [
    "from utils import describeData"
   ]
  },
  {
   "cell_type": "code",
   "execution_count": null,
   "id": "3d1ac5fc-7a9b-4422-88e0-59ba12c68ccb",
   "metadata": {},
   "outputs": [],
   "source": [
    "file_name = f\"{symbol}-{freq}-{y.name}\"\n",
    "describeData(y).to_frame().to_csv(os.path.join(outpath, f'{file_name}_describe.csv') )\n",
    "describeData(y)"
   ]
  },
  {
   "cell_type": "code",
   "execution_count": null,
   "id": "8ca9ec76-14d6-4b42-b40b-4ae679353f46",
   "metadata": {},
   "outputs": [],
   "source": [
    "# 單根檢定"
   ]
  },
  {
   "cell_type": "code",
   "execution_count": null,
   "id": "3b5c8e0b-2b07-48b6-827f-91a48d92ac41",
   "metadata": {},
   "outputs": [],
   "source": [
    "title"
   ]
  },
  {
   "cell_type": "code",
   "execution_count": null,
   "id": "3b59db08-6514-4454-a54e-61ed4e2828b4",
   "metadata": {
    "scrolled": true
   },
   "outputs": [],
   "source": [
    "from arch import unitroot\n",
    "adf = unitroot.ADF(y, max_lags=50, method=\"bic\")\n",
    "print(adf.summary().as_text())"
   ]
  },
  {
   "cell_type": "code",
   "execution_count": null,
   "id": "2fea42c1-5b93-48b4-8347-33c811c471e4",
   "metadata": {
    "scrolled": true
   },
   "outputs": [],
   "source": [
    "pp = unitroot.PhillipsPerron(y)\n",
    "print(pp.summary().as_text())"
   ]
  },
  {
   "cell_type": "code",
   "execution_count": null,
   "id": "bbceb372-b36e-4520-b470-72a8ad2b72d0",
   "metadata": {},
   "outputs": [],
   "source": [
    "kpss = unitroot.KPSS(y)\n",
    "print(kpss.summary().as_text())"
   ]
  },
  {
   "cell_type": "code",
   "execution_count": null,
   "id": "53591692-8331-477b-bf4b-6288f31d0b47",
   "metadata": {},
   "outputs": [],
   "source": []
  },
  {
   "cell_type": "markdown",
   "id": "35795829-1bf8-4cff-bcf8-b48c546ca0f4",
   "metadata": {},
   "source": [
    "# acf, pacf"
   ]
  },
  {
   "cell_type": "code",
   "execution_count": null,
   "id": "f0ba9285-386f-4a58-830d-a1dfb15c1aac",
   "metadata": {},
   "outputs": [],
   "source": [
    "import statsmodels.api as sm\n",
    "from statsmodels.tsa.stattools import acf, pacf"
   ]
  },
  {
   "cell_type": "code",
   "execution_count": null,
   "id": "06ba4fb5-e5c6-4620-95e9-4cdff7d66b63",
   "metadata": {},
   "outputs": [],
   "source": [
    "title = f\"{symbol}-{freq}-{y.name}\"\n",
    "fig = plt.figure(figsize=(12, 8))\n",
    "# plt.title(title, fontdict={'fontname': 'Times New Roman', 'fontstyle': 'italic'})\n",
    "ax1 = fig.add_subplot(211)\n",
    "fig = sm.graphics.tsa.plot_acf(y, lags=40, ax=ax1, title=f\"{title}- ACF\")\n",
    "plt.grid()\n",
    "plt.tight_layout()\n",
    "ax2 = fig.add_subplot(212)\n",
    "fig = sm.graphics.tsa.plot_pacf(y, lags=40, ax=ax2, title=f\"{title}- PACF\")\n",
    "plt.grid()\n",
    "plt.tight_layout()\n",
    "plt.savefig(os.path.join(outpath, f\"{title}_acf_pacf_分佈圖.png\"))"
   ]
  },
  {
   "cell_type": "code",
   "execution_count": null,
   "id": "cb34a03a-0393-4e82-870b-f6eb9ca6774d",
   "metadata": {},
   "outputs": [],
   "source": []
  },
  {
   "cell_type": "code",
   "execution_count": null,
   "id": "992b85cb-4fdf-4bd8-bfa4-945543da8d22",
   "metadata": {},
   "outputs": [],
   "source": [
    "## 連第0期也有呈現\n",
    "## if qstat=True, returns the Ljung-Box q statistic (coefficient, q_stat, prob)\n",
    "coefficient, q_stat, prob = acf(y, nlags=40, qstat=True)"
   ]
  },
  {
   "cell_type": "code",
   "execution_count": null,
   "id": "65a5bdb5-7e37-4482-872b-b31f2f109960",
   "metadata": {
    "scrolled": true
   },
   "outputs": [],
   "source": [
    "pd.DataFrame([coefficient, q_stat, prob ], index=[\"acf\", 'q', 'prob']).T"
   ]
  },
  {
   "cell_type": "code",
   "execution_count": null,
   "id": "6529aadf-3537-4b9b-822c-4f2fe6e9cc78",
   "metadata": {},
   "outputs": [],
   "source": [
    "pacf_value, pacf_c = pacf(y,  nlags=40, alpha=.05)"
   ]
  },
  {
   "cell_type": "code",
   "execution_count": null,
   "id": "06d500db-5eb7-4ecf-9e73-f6933be940d4",
   "metadata": {
    "scrolled": true
   },
   "outputs": [],
   "source": [
    "pd.DataFrame([pacf_value, pacf_c ], index=[\"pacf \", \"confint\"], columns=[\"\" for _ in range(len(pacf_value))]).T"
   ]
  },
  {
   "cell_type": "code",
   "execution_count": null,
   "id": "d56ad370-0815-4708-b5cd-c59a2f5c91d5",
   "metadata": {},
   "outputs": [],
   "source": []
  },
  {
   "cell_type": "markdown",
   "id": "4dd87e6a-a179-4063-952a-86bb70286a1e",
   "metadata": {},
   "source": [
    "https://www.statsmodels.org/devel/examples/notebooks/generated/tsa_arma_0.html"
   ]
  },
  {
   "cell_type": "code",
   "execution_count": null,
   "id": "49037fa4-079f-44d7-b16f-e238eea0234c",
   "metadata": {},
   "outputs": [],
   "source": [
    "import pandas as pd\n",
    "import numpy as np \n",
    "np.set_printoptions( precision= 5, suppress=True )\n",
    "\n",
    "import matplotlib.pyplot as plt\n",
    "from statsmodels.graphics.tsaplots import plot_acf, plot_pacf\n",
    "from statsmodels.tsa.stattools import acf, pacf\n",
    "\n",
    "from statsmodels.tsa.arima.model import ARIMA\n",
    "from statsmodels.graphics.api import qqplot\n",
    "import statsmodels.api as sm\n",
    "import numpy as np\n",
    "import pandas as pd\n",
    "from statsmodels.stats.diagnostic import acorr_ljungbox\n",
    "from statsmodels.graphics.tsaplots import plot_predict"
   ]
  },
  {
   "cell_type": "code",
   "execution_count": null,
   "id": "db01b87e-b3c2-4574-8487-3d78ae3149bf",
   "metadata": {},
   "outputs": [],
   "source": [
    "ARIMA?"
   ]
  },
  {
   "cell_type": "code",
   "execution_count": null,
   "id": "84fead07-27c1-40c5-89d8-de63045053ea",
   "metadata": {},
   "outputs": [],
   "source": [
    "p = 1\n",
    "q = 5\n",
    "\n",
    "# ARIMA(p, d, q)\n",
    "arma_model = ARIMA(\n",
    "    y , \n",
    "    order=(p, 0, q), \n",
    "    missing='drop',\n",
    "    # freq=freq\n",
    ").fit()"
   ]
  },
  {
   "cell_type": "code",
   "execution_count": null,
   "id": "f3f4995f-80d1-4edc-b2ca-4e5acc2a0e9e",
   "metadata": {},
   "outputs": [],
   "source": [
    "summary = arma_model.summary()\n",
    "# 殘差檢驗：Ljung-Box統計\n",
    "Q_test_table = acorr_ljungbox(arma_model.resid, lags=[4, 8, 12], return_df=False)"
   ]
  },
  {
   "cell_type": "code",
   "execution_count": null,
   "id": "8e73e990",
   "metadata": {},
   "outputs": [],
   "source": [
    "# 計算 SSR\n",
    "ssr = np.sum(arma_model.resid**2)\n",
    "\n",
    "# R 平方\n",
    "r_squared = 1 - ssr/np.sum((y - np.mean(y))**2)"
   ]
  },
  {
   "cell_type": "code",
   "execution_count": null,
   "id": "83988543-e45c-4b74-836a-394b42ac499d",
   "metadata": {
    "scrolled": true
   },
   "outputs": [],
   "source": [
    "summary"
   ]
  },
  {
   "cell_type": "code",
   "execution_count": null,
   "id": "00ea30be-6154-46bf-9c5d-38fe452f075c",
   "metadata": {},
   "outputs": [],
   "source": [
    "print(f\"SSR: {ssr}\")\n",
    "print(f\"R^2: {r_squared}\")"
   ]
  },
  {
   "cell_type": "code",
   "execution_count": null,
   "id": "e49d7981-eb7d-4a78-b780-570295edcf2a",
   "metadata": {},
   "outputs": [],
   "source": [
    "Q_test_table"
   ]
  },
  {
   "cell_type": "code",
   "execution_count": null,
   "id": "f0df399d-22e7-40e1-8ad8-d016a7324da1",
   "metadata": {},
   "outputs": [],
   "source": [
    "from tqdm import tqdm"
   ]
  },
  {
   "cell_type": "code",
   "execution_count": null,
   "id": "9ccfc9d1-b182-492d-b88d-6bc9e97df9ae",
   "metadata": {},
   "outputs": [],
   "source": [
    "def signif(p_val):\n",
    "    if p_val <= 0.01: return \"***\"\n",
    "    elif p_val <= 0.05: return \"**\"\n",
    "    elif p_val <= 0.1: return \"*\"\n",
    "    else: return \"\"\n"
   ]
  },
  {
   "cell_type": "code",
   "execution_count": null,
   "id": "2846bddd-1142-48e4-bb3d-3b8755d829c3",
   "metadata": {
    "scrolled": true
   },
   "outputs": [],
   "source": [
    "all_result_table = pd.DataFrame()\n",
    "resid_maplist = {}\n",
    "for pq in tqdm([\n",
    "    (1,0), \n",
    "    (3,0), \n",
    "    ((1,7),0), \n",
    "    ((1,8),0), \n",
    "    ((1,7,8),0), \n",
    "    ((1,2,3,7),0),\n",
    "    ((1,2,3,8),0),\n",
    "    ((1,2,3,7,8),0),\n",
    "\n",
    "    (0,1),\n",
    "    (0,5), \n",
    "    (1,1), \n",
    "    (1,5), \n",
    "    (3,1), \n",
    "    ((1,2,3,7,8),1),  \n",
    "    (3,5), \n",
    "    ((1,2,3,7,8),5),  \n",
    "]):\n",
    "    p = pq[0]\n",
    "    q = pq[1]\n",
    "    \n",
    "    # ARIMA(p, d, q)\n",
    "    try:\n",
    "        arma_model = ARIMA(\n",
    "            y , \n",
    "            order=(p, 0, q), \n",
    "            missing='drop',\n",
    "            # freq=freq\n",
    "        ).fit()\n",
    "    except:\n",
    "        continue\n",
    "    summary = arma_model.summary()\n",
    "    # 殘差檢驗：Ljung-Box統計\n",
    "    Q_test_table = acorr_ljungbox(arma_model.resid, lags=[4, 8, 12], return_df=False)\n",
    "    # 計算 SSR\n",
    "    ssr = np.sum(arma_model.resid**2)\n",
    "    \n",
    "    # R 平方\n",
    "    r_squared = 1 - ssr/np.sum((y - np.mean(y))**2)\n",
    "\n",
    "    result_label_list = []\n",
    "    result_value_list = []\n",
    "    for res_coef, res_t,res_p, res_name in zip(arma_model.params , arma_model.tvalues, arma_model.pvalues, arma_model.params.index):\n",
    "        result_label_list.append(f\"{res_name}_coef\")\n",
    "        result_value_list.append(\"%.4f%s\"%(res_coef, signif(res_p)))\n",
    "        result_label_list.append(f\"{res_name}_t\")\n",
    "        result_value_list.append(\"%.4f\"%res_t)\n",
    "\n",
    "    result_label_list.append(\"R-sqr\")\n",
    "    result_value_list.append(\"%.4f\"% r_squared)\n",
    "    \n",
    "    result_label_list.append(\"SSR\")\n",
    "    result_value_list.append(\"%.4f\"% ssr)\n",
    "    \n",
    "    result_label_list.append(\"AIC\")\n",
    "    result_value_list.append(\"%.4f\"%arma_model.aic)\n",
    "        \n",
    "    result_label_list.append(\"SBC\")\n",
    "    result_value_list.append(\"%.4f\"%arma_model.bic)\n",
    "    \n",
    "    result_label_list.append(\"Q(4)\")\n",
    "    result_value_list.append(\"%.4f\"%Q_test_table['lb_stat'][4])\n",
    "    \n",
    "    result_label_list.append(\"Q(8)\")\n",
    "    result_value_list.append(\"%.4f\"%Q_test_table['lb_stat'][8])\n",
    "    \n",
    "    result_label_list.append(\"Q(12)\")\n",
    "    result_value_list.append(\"%.4f\"%Q_test_table['lb_stat'][12])\n",
    "    \n",
    "    res_table =  pd.DataFrame(result_value_list, index=result_label_list, columns=[f\"ARMA({p},{q})\"])\n",
    "    \n",
    "    all_result_table = pd.concat((all_result_table, res_table), axis=1)\n",
    "    resid_maplist[f\"ARMA({p},{q})\"] = arma_model.resid"
   ]
  },
  {
   "cell_type": "code",
   "execution_count": null,
   "id": "21d33cd4-9825-478f-aac0-597defef6cb9",
   "metadata": {},
   "outputs": [],
   "source": [
    "arma_model.summary()"
   ]
  },
  {
   "cell_type": "code",
   "execution_count": null,
   "id": "997f81ae-25f4-4ac0-95ad-30e1773af72e",
   "metadata": {},
   "outputs": [],
   "source": [
    "title = f\"{symbol}-{freq}-{y.name}\""
   ]
  },
  {
   "cell_type": "code",
   "execution_count": null,
   "id": "46746443-a290-47ed-968a-ade25b5be8bd",
   "metadata": {},
   "outputs": [],
   "source": [
    "all_result_table.loc[result_label_list, :].to_excel(os.path.join(outpath, f\"{title}_arma_result.xlsx\"))\n",
    "pd.to_pickle(resid_maplist, os.path.join(outpath, f\"{title}_arma_result_resid.pkl\"))"
   ]
  },
  {
   "cell_type": "code",
   "execution_count": null,
   "id": "dec76d7a-cd82-4674-ba83-2aa336fc5531",
   "metadata": {},
   "outputs": [],
   "source": [
    "all_result_table.loc[result_label_list, :]"
   ]
  },
  {
   "cell_type": "markdown",
   "id": "20c6ef3c-da54-4f86-9686-ba118ce010a7",
   "metadata": {},
   "source": [
    "# 殘差診斷"
   ]
  },
  {
   "cell_type": "code",
   "execution_count": null,
   "id": "d444274e-7c9d-45f2-934d-f2eb757e6d5d",
   "metadata": {},
   "outputs": [],
   "source": [
    "p = (1, 2, 3, 7, 8)\n",
    "g = 5\n",
    "arma_model_resid = resid_maplist[f\"ARMA({p},{q})\"] "
   ]
  },
  {
   "cell_type": "code",
   "execution_count": null,
   "id": "99078b9b-468e-4411-ae3b-ebcfdb453ec9",
   "metadata": {},
   "outputs": [],
   "source": [
    "title = f\"{symbol}-{freq}-{y.name}-ARMA({p},{q})\"\n",
    "fig = plt.figure(figsize=(12, 8))\n",
    "# plt.title(title, fontdict={'fontname': 'Times New Roman', 'fontstyle': 'italic'})\n",
    "ax1 = fig.add_subplot(211)\n",
    "fig = sm.graphics.tsa.plot_acf(arma_model_resid, lags=40, ax=ax1, title=f\"{title}- ACF\")\n",
    "plt.grid()\n",
    "plt.tight_layout()\n",
    "ax2 = fig.add_subplot(212)\n",
    "fig = sm.graphics.tsa.plot_pacf(arma_model_resid, lags=40, ax=ax2, title=f\"{title}- PACF\")\n",
    "plt.grid()\n",
    "plt.tight_layout()\n",
    "plt.savefig(os.path.join(outpath, f\"{title}_acf_pacf_分佈圖.png\"))"
   ]
  },
  {
   "cell_type": "code",
   "execution_count": null,
   "id": "682adb01-2251-4d72-b9cc-f829a5dfc95e",
   "metadata": {},
   "outputs": [],
   "source": [
    "from statsmodels.stats.diagnostic import acorr_ljungbox\n",
    "white_noise = acorr_ljungbox(arma_model_resid, lags = [4, 8, 12, 40], return_df=True)"
   ]
  },
  {
   "cell_type": "code",
   "execution_count": null,
   "id": "a2bd453c-5ba1-46bb-8620-bba1cc898309",
   "metadata": {},
   "outputs": [],
   "source": [
    "white_noise"
   ]
  },
  {
   "cell_type": "markdown",
   "id": "d8ad9e29-5be3-43f5-bea2-7c4d6641c207",
   "metadata": {},
   "source": [
    "# 預測"
   ]
  },
  {
   "cell_type": "code",
   "execution_count": null,
   "id": "e7a622d8-8f82-4cc9-b033-7d69a3e70055",
   "metadata": {},
   "outputs": [],
   "source": [
    "import matplotlib.pyplot as plt\n",
    "\n",
    "fig, ax = plt.subplots(figsize=(16, 8))\n",
    "fig = plot_predict(arma_model, start=\"2024-03-25\", end=\"2024-04-02\", ax=ax)\n",
    "legend = ax.legend(loc=\"upper left\")"
   ]
  },
  {
   "cell_type": "code",
   "execution_count": null,
   "id": "23afd8d3",
   "metadata": {},
   "outputs": [],
   "source": []
  }
 ],
 "metadata": {
  "kernelspec": {
   "display_name": "Python 3 (ipykernel)",
   "language": "python",
   "name": "python3"
  },
  "language_info": {
   "codemirror_mode": {
    "name": "ipython",
    "version": 3
   },
   "file_extension": ".py",
   "mimetype": "text/x-python",
   "name": "python",
   "nbconvert_exporter": "python",
   "pygments_lexer": "ipython3",
   "version": "3.9.17"
  }
 },
 "nbformat": 4,
 "nbformat_minor": 5
}
